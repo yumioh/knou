{
 "cells": [
  {
   "cell_type": "code",
   "execution_count": null,
   "id": "fd6eec9b",
   "metadata": {},
   "outputs": [],
   "source": [
    "a = 5 #정수\n",
    "b = 2.5 #실수\n",
    "c = True # bloolean (False, True)\n",
    "d = '파이썬' #문자\n",
    "e = [1, 2, 3] #리스트\n",
    "f = (4, 5, 6) #튜플\n",
    "g = {\"이름\" : \"홍길동\", \"나이\" : 30 } # 딕셔너리\n",
    "h = {1, 2, 2, 9} # 집합 (중복된 값은 한번만 저장)"
   ]
  },
  {
   "cell_type": "code",
   "execution_count": null,
   "id": "adab4e7e",
   "metadata": {},
   "outputs": [],
   "source": []
  }
 ],
 "metadata": {
  "kernelspec": {
   "display_name": "Python 3",
   "language": "python",
   "name": "python3"
  },
  "language_info": {
   "codemirror_mode": {
    "name": "ipython",
    "version": 3
   },
   "file_extension": ".py",
   "mimetype": "text/x-python",
   "name": "python",
   "nbconvert_exporter": "python",
   "pygments_lexer": "ipython3",
   "version": "3.11.9"
  }
 },
 "nbformat": 4,
 "nbformat_minor": 5
}
